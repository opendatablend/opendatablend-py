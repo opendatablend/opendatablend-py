{
 "cells": [
  {
   "cell_type": "markdown",
   "metadata": {},
   "source": [
    "# Querying Large Parquet Files with Pandas"
   ]
  },
  {
   "cell_type": "markdown",
   "metadata": {},
   "source": [
    "## Install the Required Packages"
   ]
  },
  {
   "cell_type": "code",
   "execution_count": 1,
   "metadata": {},
   "outputs": [
    {
     "name": "stdout",
     "output_type": "stream",
     "text": [
      "Requirement already satisfied: opendatablend in c:\\miniconda\\envs\\py38_default\\lib\\site-packages (0.3.2)\n",
      "Requirement already satisfied: requests in c:\\miniconda\\envs\\py38_default\\lib\\site-packages (from opendatablend) (2.26.0)\n",
      "Requirement already satisfied: frictionless in c:\\miniconda\\envs\\py38_default\\lib\\site-packages (from opendatablend) (4.16.2)\n",
      "Requirement already satisfied: urllib3<1.27,>=1.21.1 in c:\\miniconda\\envs\\py38_default\\lib\\site-packages (from requests->opendatablend) (1.26.6)\n",
      "Requirement already satisfied: certifi>=2017.4.17 in c:\\miniconda\\envs\\py38_default\\lib\\site-packages (from requests->opendatablend) (2021.5.30)\n",
      "Requirement already satisfied: charset-normalizer~=2.0.0; python_version >= \"3\" in c:\\miniconda\\envs\\py38_default\\lib\\site-packages (from requests->opendatablend) (2.0.4)\n",
      "Requirement already satisfied: idna<4,>=2.5; python_version >= \"3\" in c:\\miniconda\\envs\\py38_default\\lib\\site-packages (from requests->opendatablend) (3.2)\n",
      "Requirement already satisfied: pyyaml>=5.3 in c:\\miniconda\\envs\\py38_default\\lib\\site-packages (from frictionless->opendatablend) (5.3.1)\n",
      "Requirement already satisfied: typer[all]>=0.3 in c:\\miniconda\\envs\\py38_default\\lib\\site-packages (from frictionless->opendatablend) (0.3.2)\n",
      "Requirement already satisfied: click<7.2.0,>=7.1.1 in c:\\miniconda\\envs\\py38_default\\lib\\site-packages (from frictionless->opendatablend) (7.1.2)\n",
      "Requirement already satisfied: rfc3986>=1.4 in c:\\miniconda\\envs\\py38_default\\lib\\site-packages (from frictionless->opendatablend) (1.5.0)\n",
      "Requirement already satisfied: petl>=1.6 in c:\\miniconda\\envs\\py38_default\\lib\\site-packages (from frictionless->opendatablend) (1.7.4)\n",
      "Requirement already satisfied: simpleeval>=0.9 in c:\\miniconda\\envs\\py38_default\\lib\\site-packages (from frictionless->opendatablend) (0.9.10)\n",
      "Requirement already satisfied: validators>=0.18 in c:\\miniconda\\envs\\py38_default\\lib\\site-packages (from frictionless->opendatablend) (0.18.2)\n",
      "Requirement already satisfied: stringcase>=1.2 in c:\\miniconda\\envs\\py38_default\\lib\\site-packages (from frictionless->opendatablend) (1.2.0)\n",
      "Requirement already satisfied: python-dateutil>=2.8 in c:\\miniconda\\envs\\py38_default\\lib\\site-packages (from frictionless->opendatablend) (2.8.2)\n",
      "Requirement already satisfied: jsonschema>=2.5 in c:\\miniconda\\envs\\py38_default\\lib\\site-packages (from frictionless->opendatablend) (3.2.0)\n",
      "Requirement already satisfied: python-slugify>=1.2 in c:\\miniconda\\envs\\py38_default\\lib\\site-packages (from frictionless->opendatablend) (5.0.2)\n",
      "Requirement already satisfied: chardet>=3.0 in c:\\miniconda\\envs\\py38_default\\lib\\site-packages (from frictionless->opendatablend) (4.0.0)\n",
      "Requirement already satisfied: isodate>=0.6 in c:\\miniconda\\envs\\py38_default\\lib\\site-packages (from frictionless->opendatablend) (0.6.0)\n",
      "Requirement already satisfied: shellingham<2.0.0,>=1.3.0; extra == \"all\" in c:\\miniconda\\envs\\py38_default\\lib\\site-packages (from typer[all]>=0.3->frictionless->opendatablend) (1.4.0)\n",
      "Requirement already satisfied: colorama<0.5.0,>=0.4.3; extra == \"all\" in c:\\miniconda\\envs\\py38_default\\lib\\site-packages (from typer[all]>=0.3->frictionless->opendatablend) (0.4.4)\n",
      "Requirement already satisfied: decorator>=3.4.0 in c:\\miniconda\\envs\\py38_default\\lib\\site-packages (from validators>=0.18->frictionless->opendatablend) (5.0.9)\n",
      "Requirement already satisfied: six>=1.4.0 in c:\\miniconda\\envs\\py38_default\\lib\\site-packages (from validators>=0.18->frictionless->opendatablend) (1.16.0)\n",
      "Requirement already satisfied: pyrsistent>=0.14.0 in c:\\miniconda\\envs\\py38_default\\lib\\site-packages (from jsonschema>=2.5->frictionless->opendatablend) (0.18.0)\n",
      "Requirement already satisfied: attrs>=17.4.0 in c:\\miniconda\\envs\\py38_default\\lib\\site-packages (from jsonschema>=2.5->frictionless->opendatablend) (21.2.0)\n",
      "Requirement already satisfied: setuptools in c:\\miniconda\\envs\\py38_default\\lib\\site-packages (from jsonschema>=2.5->frictionless->opendatablend) (57.4.0)\n",
      "Requirement already satisfied: text-unidecode>=1.3 in c:\\miniconda\\envs\\py38_default\\lib\\site-packages (from python-slugify>=1.2->frictionless->opendatablend) (1.3)\n",
      "Note: you may need to restart the kernel to use updated packages.\n"
     ]
    }
   ],
   "source": [
    "pip install opendatablend"
   ]
  },
  {
   "cell_type": "code",
   "execution_count": 2,
   "metadata": {},
   "outputs": [
    {
     "name": "stdout",
     "output_type": "stream",
     "text": [
      "Requirement already satisfied: pyarrow in c:\\miniconda\\envs\\py38_default\\lib\\site-packages (5.0.0)\n",
      "Requirement already satisfied: numpy>=1.16.6 in c:\\miniconda\\envs\\py38_default\\lib\\site-packages (from pyarrow) (1.19.5)\n",
      "Note: you may need to restart the kernel to use updated packages.\n"
     ]
    }
   ],
   "source": [
    "pip install pyarrow"
   ]
  },
  {
   "cell_type": "code",
   "execution_count": 3,
   "metadata": {},
   "outputs": [
    {
     "name": "stdout",
     "output_type": "stream",
     "text": [
      "Requirement already satisfied: pandas in c:\\miniconda\\envs\\py38_default\\lib\\site-packages (1.1.3)\n",
      "Requirement already satisfied: python-dateutil>=2.7.3 in c:\\miniconda\\envs\\py38_default\\lib\\site-packages (from pandas) (2.8.2)\n",
      "Requirement already satisfied: pytz>=2017.2 in c:\\miniconda\\envs\\py38_default\\lib\\site-packages (from pandas) (2020.1)\n",
      "Requirement already satisfied: numpy>=1.15.4 in c:\\miniconda\\envs\\py38_default\\lib\\site-packages (from pandas) (1.19.5)\n",
      "Requirement already satisfied: six>=1.5 in c:\\miniconda\\envs\\py38_default\\lib\\site-packages (from python-dateutil>=2.7.3->pandas) (1.16.0)\n",
      "Note: you may need to restart the kernel to use updated packages.\n"
     ]
    }
   ],
   "source": [
    "pip install pandas"
   ]
  },
  {
   "cell_type": "markdown",
   "metadata": {},
   "source": [
    "## Import the Required Packages"
   ]
  },
  {
   "cell_type": "code",
   "execution_count": 4,
   "metadata": {},
   "outputs": [],
   "source": [
    "import opendatablend as odb\n",
    "import pandas as pd"
   ]
  },
  {
   "cell_type": "markdown",
   "metadata": {},
   "source": [
    "## Setup Variables for use with Open Data Blend for Python"
   ]
  },
  {
   "cell_type": "code",
   "execution_count": 5,
   "metadata": {},
   "outputs": [],
   "source": [
    "# Pin the analysis to a specific version of the dataset to enable reproducible analysis. If we wanted it to always use the latest version of the data, we could use https://packages.opendatablend.io/v1/open-data-blend-prescribing/datapackage.json\n",
    "dataset_path = 'https://packages.opendatablend.io/v1/open-data-blend-prescribing/20210818T044451Z/datapackage.json'\n",
    "\n",
    "# Set the access key. If the access key is set to an empty string (i.e. '') then unauthenticated calls to the Open Data Blend Dataset API will be made. Unauthenticated calls have a monthly limit: https://docs.opendatablend.io/open-data-blend-datasets/dataset-api#usage-limits \n",
    "access_key=''"
   ]
  },
  {
   "cell_type": "markdown",
   "metadata": {},
   "source": [
    "## Acquiring the Prescription Data"
   ]
  },
  {
   "cell_type": "code",
   "execution_count": 6,
   "metadata": {},
   "outputs": [],
   "source": [
    "# Get the Date data file. This file is less than 10 MB.\n",
    "output_date = odb.get_data(dataset_path, 'date-parquet', access_key=access_key)"
   ]
  },
  {
   "cell_type": "code",
   "execution_count": 7,
   "metadata": {},
   "outputs": [],
   "source": [
    "# Get the Prescribing Chemical data file. The file is less than 10 MB.\n",
    "output_prescribing_chemical = odb.get_data(dataset_path, 'prescribing-chemical-parquet', access_key=access_key)"
   ]
  },
  {
   "cell_type": "code",
   "execution_count": 8,
   "metadata": {},
   "outputs": [],
   "source": [
    "# Get the Prescribing Practice data file. The file is less than 10 MB in size.\n",
    "output_prescribing_practice = odb.get_data(dataset_path, 'prescribing-practice-parquet', access_key=access_key)"
   ]
  },
  {
   "cell_type": "code",
   "execution_count": 9,
   "metadata": {},
   "outputs": [],
   "source": [
    "# Get the Primary Care Organisation data file. The file is less than 10 MB in size.\n",
    "output_primary_care_organisation = odb.get_data(dataset_path, 'primary-care-organisation-parquet', access_key=access_key)"
   ]
  },
  {
   "cell_type": "code",
   "execution_count": 10,
   "metadata": {},
   "outputs": [],
   "source": [
    "# Get the English Prescribing 2019 data file. The file is larger than 3 GB.\n",
    "output_english_prescriptions_2019 = odb.get_data(dataset_path, 'english-prescribing-2019-parquet', access_key=access_key)"
   ]
  },
  {
   "cell_type": "code",
   "execution_count": 11,
   "metadata": {},
   "outputs": [],
   "source": [
    "# Get the English Prescribing 2020 data file. The file is larger than 3 GB. \n",
    "output_english_prescriptions_2020 = odb.get_data(dataset_path, 'english-prescribing-2020-parquet', access_key=access_key)"
   ]
  },
  {
   "cell_type": "code",
   "execution_count": 12,
   "metadata": {},
   "outputs": [],
   "source": [
    "# Get the English Prescribing 2021 data file. The file is larger than 1.5 GB. \n",
    "output_english_prescriptions_2021 = odb.get_data(dataset_path, 'english-prescribing-2021-parquet', access_key=access_key)"
   ]
  },
  {
   "cell_type": "markdown",
   "metadata": {},
   "source": [
    "## Efficiently Querying the Prescription Data"
   ]
  },
  {
   "cell_type": "markdown",
   "metadata": {},
   "source": [
    "### Step 1 - Selectively load the dimension data"
   ]
  },
  {
   "cell_type": "markdown",
   "metadata": {},
   "source": [
    "#### Create a Date DataFrame:"
   ]
  },
  {
   "cell_type": "code",
   "execution_count": 13,
   "metadata": {},
   "outputs": [],
   "source": [
    "# Specify the required columns\n",
    "date_columns = [\n",
    "    'drv_date_key',\n",
    "    'drv_year'\n",
    "]"
   ]
  },
  {
   "cell_type": "code",
   "execution_count": 14,
   "metadata": {},
   "outputs": [],
   "source": [
    "# Specify the filter predicates to be applied\n",
    "date_filters = [\n",
    "    ('drv_date_key', '>=', 20190101), \n",
    "    ('drv_date_key', '<=', 20210630)\n",
    "]"
   ]
  },
  {
   "cell_type": "code",
   "execution_count": 15,
   "metadata": {},
   "outputs": [
    {
     "data": {
      "text/plain": [
       "Timedelta('0 days 00:00:01.327084')"
      ]
     },
     "execution_count": 15,
     "metadata": {},
     "output_type": "execute_result"
    }
   ],
   "source": [
    "# Capture the execution start time\n",
    "execution_start_time = pd.Timestamp.now()\n",
    "\n",
    "# Load the data after the column selection and filter predicates have been applied\n",
    "date = pd.read_parquet(output_date.data_file_name, columns=date_columns, filters=date_filters)\n",
    "\n",
    "# Return the execution duration\n",
    "pd.Timestamp.now() - execution_start_time"
   ]
  },
  {
   "cell_type": "code",
   "execution_count": 16,
   "metadata": {},
   "outputs": [
    {
     "data": {
      "text/html": [
       "<div>\n",
       "<style scoped>\n",
       "    .dataframe tbody tr th:only-of-type {\n",
       "        vertical-align: middle;\n",
       "    }\n",
       "\n",
       "    .dataframe tbody tr th {\n",
       "        vertical-align: top;\n",
       "    }\n",
       "\n",
       "    .dataframe thead th {\n",
       "        text-align: right;\n",
       "    }\n",
       "</style>\n",
       "<table border=\"1\" class=\"dataframe\">\n",
       "  <thead>\n",
       "    <tr style=\"text-align: right;\">\n",
       "      <th></th>\n",
       "      <th>drv_date_key</th>\n",
       "      <th>drv_year</th>\n",
       "    </tr>\n",
       "  </thead>\n",
       "  <tbody>\n",
       "    <tr>\n",
       "      <th>191</th>\n",
       "      <td>20190711</td>\n",
       "      <td>2019</td>\n",
       "    </tr>\n",
       "    <tr>\n",
       "      <th>832</th>\n",
       "      <td>20210412</td>\n",
       "      <td>2021</td>\n",
       "    </tr>\n",
       "    <tr>\n",
       "      <th>111</th>\n",
       "      <td>20190422</td>\n",
       "      <td>2019</td>\n",
       "    </tr>\n",
       "    <tr>\n",
       "      <th>262</th>\n",
       "      <td>20190920</td>\n",
       "      <td>2019</td>\n",
       "    </tr>\n",
       "    <tr>\n",
       "      <th>670</th>\n",
       "      <td>20201101</td>\n",
       "      <td>2020</td>\n",
       "    </tr>\n",
       "  </tbody>\n",
       "</table>\n",
       "</div>"
      ],
      "text/plain": [
       "     drv_date_key  drv_year\n",
       "191      20190711      2019\n",
       "832      20210412      2021\n",
       "111      20190422      2019\n",
       "262      20190920      2019\n",
       "670      20201101      2020"
      ]
     },
     "execution_count": 16,
     "metadata": {},
     "output_type": "execute_result"
    }
   ],
   "source": [
    "# Preview a sample of the data\n",
    "date.sample(n=5, random_state=1)"
   ]
  },
  {
   "cell_type": "code",
   "execution_count": 17,
   "metadata": {},
   "outputs": [
    {
     "name": "stdout",
     "output_type": "stream",
     "text": [
      "<class 'pandas.core.frame.DataFrame'>\n",
      "RangeIndex: 912 entries, 0 to 911\n",
      "Data columns (total 2 columns):\n",
      " #   Column        Non-Null Count  Dtype\n",
      "---  ------        --------------  -----\n",
      " 0   drv_date_key  912 non-null    int32\n",
      " 1   drv_year      912 non-null    int32\n",
      "dtypes: int32(2)\n",
      "memory usage: 7.2 KB\n"
     ]
    }
   ],
   "source": [
    "# Check the size in memory\n",
    "date.info(memory_usage='deep', null_counts=True, verbose=True)"
   ]
  },
  {
   "cell_type": "markdown",
   "metadata": {},
   "source": [
    "#### Create a Prescribing Chemical DataFrame:"
   ]
  },
  {
   "cell_type": "code",
   "execution_count": 18,
   "metadata": {},
   "outputs": [],
   "source": [
    "# Specify the required columns\n",
    "prescribing_chemical_columns = [\n",
    "    'drv_prescribing_chemical_key',\n",
    "    'srk_british_national_formulary_code',\n",
    "    'src_british_national_formulary_description'\n",
    "]"
   ]
  },
  {
   "cell_type": "code",
   "execution_count": 19,
   "metadata": {},
   "outputs": [],
   "source": [
    "# Specify the filter predicates to be applied - We are only interested Glucose blood testing reagents (0601060D0) and Glucose and ketone blood testing reagents (0601060X0) \n",
    "\n",
    "prescribing_chemical_filters = [\n",
    "    ('drk_source', '=', 'English Prescribing'),\n",
    "    ('src_british_national_formulary_chemical_substance', 'in', ['0601060D0', '0601060X0'])\n",
    "]"
   ]
  },
  {
   "cell_type": "code",
   "execution_count": 20,
   "metadata": {},
   "outputs": [
    {
     "data": {
      "text/plain": [
       "Timedelta('0 days 00:00:00.107007')"
      ]
     },
     "execution_count": 20,
     "metadata": {},
     "output_type": "execute_result"
    }
   ],
   "source": [
    "# Capture the execution start time\n",
    "execution_start_time = pd.Timestamp.now()\n",
    "\n",
    "# Load the data after the column selection and filter predicates have been applied\n",
    "prescribing_chemical = pd.read_parquet(output_prescribing_chemical.data_file_name, columns=prescribing_chemical_columns, filters=prescribing_chemical_filters)\n",
    "\n",
    "# Return the execution duration\n",
    "pd.Timestamp.now() - execution_start_time"
   ]
  },
  {
   "cell_type": "code",
   "execution_count": 21,
   "metadata": {},
   "outputs": [
    {
     "data": {
      "text/html": [
       "<div>\n",
       "<style scoped>\n",
       "    .dataframe tbody tr th:only-of-type {\n",
       "        vertical-align: middle;\n",
       "    }\n",
       "\n",
       "    .dataframe tbody tr th {\n",
       "        vertical-align: top;\n",
       "    }\n",
       "\n",
       "    .dataframe thead th {\n",
       "        text-align: right;\n",
       "    }\n",
       "</style>\n",
       "<table border=\"1\" class=\"dataframe\">\n",
       "  <thead>\n",
       "    <tr style=\"text-align: right;\">\n",
       "      <th></th>\n",
       "      <th>drv_prescribing_chemical_key</th>\n",
       "      <th>srk_british_national_formulary_code</th>\n",
       "      <th>src_british_national_formulary_description</th>\n",
       "    </tr>\n",
       "  </thead>\n",
       "  <tbody>\n",
       "    <tr>\n",
       "      <th>40</th>\n",
       "      <td>49436</td>\n",
       "      <td>0601060D0BWAAA0</td>\n",
       "      <td>FreeStyle testing strips</td>\n",
       "    </tr>\n",
       "    <tr>\n",
       "      <th>31</th>\n",
       "      <td>36388</td>\n",
       "      <td>0601060D0BJACA0</td>\n",
       "      <td>MediSense SoftSense testing strips</td>\n",
       "    </tr>\n",
       "    <tr>\n",
       "      <th>45</th>\n",
       "      <td>49441</td>\n",
       "      <td>0601060D0DHAAA0</td>\n",
       "      <td>GlucoDock testing strips</td>\n",
       "    </tr>\n",
       "    <tr>\n",
       "      <th>86</th>\n",
       "      <td>89867</td>\n",
       "      <td>0601060D0ERAAA0</td>\n",
       "      <td>Microdot Max testing strips</td>\n",
       "    </tr>\n",
       "    <tr>\n",
       "      <th>83</th>\n",
       "      <td>87623</td>\n",
       "      <td>0601060D0ENAAA0</td>\n",
       "      <td>Contour Plus testing strips</td>\n",
       "    </tr>\n",
       "  </tbody>\n",
       "</table>\n",
       "</div>"
      ],
      "text/plain": [
       "    drv_prescribing_chemical_key srk_british_national_formulary_code  \\\n",
       "40                         49436                     0601060D0BWAAA0   \n",
       "31                         36388                     0601060D0BJACA0   \n",
       "45                         49441                     0601060D0DHAAA0   \n",
       "86                         89867                     0601060D0ERAAA0   \n",
       "83                         87623                     0601060D0ENAAA0   \n",
       "\n",
       "   src_british_national_formulary_description  \n",
       "40                   FreeStyle testing strips  \n",
       "31         MediSense SoftSense testing strips  \n",
       "45                   GlucoDock testing strips  \n",
       "86                Microdot Max testing strips  \n",
       "83                Contour Plus testing strips  "
      ]
     },
     "execution_count": 21,
     "metadata": {},
     "output_type": "execute_result"
    }
   ],
   "source": [
    "# Preview a sample of the data\n",
    "prescribing_chemical.sample(n=5, random_state=1)"
   ]
  },
  {
   "cell_type": "code",
   "execution_count": 22,
   "metadata": {},
   "outputs": [
    {
     "name": "stdout",
     "output_type": "stream",
     "text": [
      "<class 'pandas.core.frame.DataFrame'>\n",
      "RangeIndex: 94 entries, 0 to 93\n",
      "Data columns (total 3 columns):\n",
      " #   Column                                      Non-Null Count  Dtype \n",
      "---  ------                                      --------------  ----- \n",
      " 0   drv_prescribing_chemical_key                94 non-null     int32 \n",
      " 1   srk_british_national_formulary_code         94 non-null     object\n",
      " 2   src_british_national_formulary_description  94 non-null     object\n",
      "dtypes: int32(1), object(2)\n",
      "memory usage: 14.8 KB\n"
     ]
    }
   ],
   "source": [
    "# Check the size in memory\n",
    "prescribing_chemical.info(memory_usage='deep', null_counts=True, verbose=True)"
   ]
  },
  {
   "cell_type": "markdown",
   "metadata": {},
   "source": [
    "#### Create a Prescribing Practice DataFrame:"
   ]
  },
  {
   "cell_type": "code",
   "execution_count": 23,
   "metadata": {},
   "outputs": [],
   "source": [
    "# Specify the required columns\n",
    "prescribing_prescribing_columns = [\n",
    "    'drv_prescribing_practice_key',\n",
    "    'srk_prescribing_practice_code',\n",
    "    'src_prescribing_practice'\n",
    "]"
   ]
  },
  {
   "cell_type": "code",
   "execution_count": 24,
   "metadata": {},
   "outputs": [],
   "source": [
    "# Specify the filter predicates to be applied\n",
    "\n",
    "prescribing_prescribing_filters = [\n",
    "    ('drk_source', '=', 'English Prescribing'),\n",
    "]"
   ]
  },
  {
   "cell_type": "code",
   "execution_count": 25,
   "metadata": {},
   "outputs": [
    {
     "data": {
      "text/plain": [
       "Timedelta('0 days 00:00:00.063000')"
      ]
     },
     "execution_count": 25,
     "metadata": {},
     "output_type": "execute_result"
    }
   ],
   "source": [
    "# Capture the execution start time\n",
    "execution_start_time = pd.Timestamp.now()\n",
    "\n",
    "# Load the data after the column selection and filter predicates have been applied\n",
    "prescribing_practice = pd.read_parquet(output_prescribing_practice.data_file_name, columns=prescribing_prescribing_columns, filters=prescribing_prescribing_filters)\n",
    "\n",
    "# Return the execution duration\n",
    "pd.Timestamp.now() - execution_start_time"
   ]
  },
  {
   "cell_type": "code",
   "execution_count": 26,
   "metadata": {},
   "outputs": [
    {
     "data": {
      "text/html": [
       "<div>\n",
       "<style scoped>\n",
       "    .dataframe tbody tr th:only-of-type {\n",
       "        vertical-align: middle;\n",
       "    }\n",
       "\n",
       "    .dataframe tbody tr th {\n",
       "        vertical-align: top;\n",
       "    }\n",
       "\n",
       "    .dataframe thead th {\n",
       "        text-align: right;\n",
       "    }\n",
       "</style>\n",
       "<table border=\"1\" class=\"dataframe\">\n",
       "  <thead>\n",
       "    <tr style=\"text-align: right;\">\n",
       "      <th></th>\n",
       "      <th>drv_prescribing_practice_key</th>\n",
       "      <th>srk_prescribing_practice_code</th>\n",
       "      <th>src_prescribing_practice</th>\n",
       "    </tr>\n",
       "  </thead>\n",
       "  <tbody>\n",
       "    <tr>\n",
       "      <th>986</th>\n",
       "      <td>17095</td>\n",
       "      <td>B85024</td>\n",
       "      <td>THE WATERLOO PRACTICE</td>\n",
       "    </tr>\n",
       "    <tr>\n",
       "      <th>16021</th>\n",
       "      <td>41707</td>\n",
       "      <td>Y03979</td>\n",
       "      <td>WWL COMMUNITY NURSES</td>\n",
       "    </tr>\n",
       "    <tr>\n",
       "      <th>2539</th>\n",
       "      <td>18648</td>\n",
       "      <td>E84635</td>\n",
       "      <td>THE SURGERY</td>\n",
       "    </tr>\n",
       "    <tr>\n",
       "      <th>4286</th>\n",
       "      <td>20395</td>\n",
       "      <td>H81080</td>\n",
       "      <td>LONGCROFT CLINIC</td>\n",
       "    </tr>\n",
       "    <tr>\n",
       "      <th>1633</th>\n",
       "      <td>17742</td>\n",
       "      <td>C84105</td>\n",
       "      <td>FAIRFIELDS PRACTICE</td>\n",
       "    </tr>\n",
       "  </tbody>\n",
       "</table>\n",
       "</div>"
      ],
      "text/plain": [
       "       drv_prescribing_practice_key srk_prescribing_practice_code  \\\n",
       "986                           17095                        B85024   \n",
       "16021                         41707                        Y03979   \n",
       "2539                          18648                        E84635   \n",
       "4286                          20395                        H81080   \n",
       "1633                          17742                        C84105   \n",
       "\n",
       "      src_prescribing_practice  \n",
       "986      THE WATERLOO PRACTICE  \n",
       "16021     WWL COMMUNITY NURSES  \n",
       "2539               THE SURGERY  \n",
       "4286          LONGCROFT CLINIC  \n",
       "1633       FAIRFIELDS PRACTICE  "
      ]
     },
     "execution_count": 26,
     "metadata": {},
     "output_type": "execute_result"
    }
   ],
   "source": [
    "# Preview a sample of the data\n",
    "prescribing_practice.sample(n=5, random_state=1)"
   ]
  },
  {
   "cell_type": "code",
   "execution_count": 27,
   "metadata": {},
   "outputs": [
    {
     "name": "stdout",
     "output_type": "stream",
     "text": [
      "<class 'pandas.core.frame.DataFrame'>\n",
      "RangeIndex: 17821 entries, 0 to 17820\n",
      "Data columns (total 3 columns):\n",
      " #   Column                         Non-Null Count  Dtype \n",
      "---  ------                         --------------  ----- \n",
      " 0   drv_prescribing_practice_key   17821 non-null  int32 \n",
      " 1   srk_prescribing_practice_code  17821 non-null  object\n",
      " 2   src_prescribing_practice       17821 non-null  object\n",
      "dtypes: int32(1), object(2)\n",
      "memory usage: 2.5 MB\n"
     ]
    }
   ],
   "source": [
    "# Check the size in memory\n",
    "prescribing_practice.info(memory_usage='deep', null_counts=True, verbose=True)"
   ]
  },
  {
   "cell_type": "markdown",
   "metadata": {},
   "source": [
    "#### Create a Primary Care Organisation DataFrame:"
   ]
  },
  {
   "cell_type": "code",
   "execution_count": 28,
   "metadata": {},
   "outputs": [],
   "source": [
    "# Specify the required columns\n",
    "primary_care_organisation_columns = [\n",
    "    'drv_primary_care_organisation_key',\n",
    "    'srk_primary_care_organisation_code',\n",
    "    'src_primary_care_organisation'\n",
    "]"
   ]
  },
  {
   "cell_type": "code",
   "execution_count": 29,
   "metadata": {},
   "outputs": [],
   "source": [
    "# Specify the filter predicates to be applied\n",
    "primary_care_organisation_filters = [\n",
    "    ('drk_source', '=', 'English Prescribing'),\n",
    "]"
   ]
  },
  {
   "cell_type": "code",
   "execution_count": 30,
   "metadata": {},
   "outputs": [
    {
     "data": {
      "text/plain": [
       "Timedelta('0 days 00:00:00.031000')"
      ]
     },
     "execution_count": 30,
     "metadata": {},
     "output_type": "execute_result"
    }
   ],
   "source": [
    "# Capture the execution start time\n",
    "execution_start_time = pd.Timestamp.now()\n",
    "\n",
    "# Load the data after the column selection and filter predicates have been applied\n",
    "primary_care_organisation = pd.read_parquet(output_primary_care_organisation.data_file_name, columns=primary_care_organisation_columns, filters=primary_care_organisation_filters)\n",
    "\n",
    "# Return the execution duration\n",
    "pd.Timestamp.now() - execution_start_time"
   ]
  },
  {
   "cell_type": "code",
   "execution_count": 31,
   "metadata": {},
   "outputs": [
    {
     "data": {
      "text/html": [
       "<div>\n",
       "<style scoped>\n",
       "    .dataframe tbody tr th:only-of-type {\n",
       "        vertical-align: middle;\n",
       "    }\n",
       "\n",
       "    .dataframe tbody tr th {\n",
       "        vertical-align: top;\n",
       "    }\n",
       "\n",
       "    .dataframe thead th {\n",
       "        text-align: right;\n",
       "    }\n",
       "</style>\n",
       "<table border=\"1\" class=\"dataframe\">\n",
       "  <thead>\n",
       "    <tr style=\"text-align: right;\">\n",
       "      <th></th>\n",
       "      <th>drv_primary_care_organisation_key</th>\n",
       "      <th>srk_primary_care_organisation_code</th>\n",
       "      <th>src_primary_care_organisation</th>\n",
       "    </tr>\n",
       "  </thead>\n",
       "  <tbody>\n",
       "    <tr>\n",
       "      <th>215</th>\n",
       "      <td>709</td>\n",
       "      <td>13L00</td>\n",
       "      <td>SURREY AND SUSSEX CB HUB</td>\n",
       "    </tr>\n",
       "    <tr>\n",
       "      <th>663</th>\n",
       "      <td>1342</td>\n",
       "      <td>07G00</td>\n",
       "      <td>THURROCK CCG</td>\n",
       "    </tr>\n",
       "    <tr>\n",
       "      <th>773</th>\n",
       "      <td>1452</td>\n",
       "      <td>99A00</td>\n",
       "      <td>LIVERPOOL CCG</td>\n",
       "    </tr>\n",
       "    <tr>\n",
       "      <th>798</th>\n",
       "      <td>1477</td>\n",
       "      <td>AND00</td>\n",
       "      <td>BADDOW HOSPITAL LTD</td>\n",
       "    </tr>\n",
       "    <tr>\n",
       "      <th>629</th>\n",
       "      <td>1308</td>\n",
       "      <td>04F00</td>\n",
       "      <td>MILTON KEYNES CCG</td>\n",
       "    </tr>\n",
       "  </tbody>\n",
       "</table>\n",
       "</div>"
      ],
      "text/plain": [
       "     drv_primary_care_organisation_key srk_primary_care_organisation_code  \\\n",
       "215                                709                              13L00   \n",
       "663                               1342                              07G00   \n",
       "773                               1452                              99A00   \n",
       "798                               1477                              AND00   \n",
       "629                               1308                              04F00   \n",
       "\n",
       "    src_primary_care_organisation  \n",
       "215      SURREY AND SUSSEX CB HUB  \n",
       "663                  THURROCK CCG  \n",
       "773                 LIVERPOOL CCG  \n",
       "798           BADDOW HOSPITAL LTD  \n",
       "629             MILTON KEYNES CCG  "
      ]
     },
     "execution_count": 31,
     "metadata": {},
     "output_type": "execute_result"
    }
   ],
   "source": [
    "# Preview a sample of the data\n",
    "primary_care_organisation.sample(n=5, random_state=1)"
   ]
  },
  {
   "cell_type": "code",
   "execution_count": 32,
   "metadata": {},
   "outputs": [
    {
     "name": "stdout",
     "output_type": "stream",
     "text": [
      "<class 'pandas.core.frame.DataFrame'>\n",
      "RangeIndex: 1058 entries, 0 to 1057\n",
      "Data columns (total 3 columns):\n",
      " #   Column                              Non-Null Count  Dtype \n",
      "---  ------                              --------------  ----- \n",
      " 0   drv_primary_care_organisation_key   1058 non-null   int32 \n",
      " 1   srk_primary_care_organisation_code  1058 non-null   object\n",
      " 2   src_primary_care_organisation       1058 non-null   object\n",
      "dtypes: int32(1), object(2)\n",
      "memory usage: 152.1 KB\n"
     ]
    }
   ],
   "source": [
    "# Check the size in memory\n",
    "primary_care_organisation.info(memory_usage='deep', null_counts=True, verbose=True)"
   ]
  },
  {
   "cell_type": "markdown",
   "metadata": {},
   "source": [
    "### Step 2 - Selectively load the fact data"
   ]
  },
  {
   "cell_type": "markdown",
   "metadata": {},
   "source": [
    "#### Specify the required columns and filter predicates to be used for all the English Prescribing fact data:"
   ]
  },
  {
   "cell_type": "code",
   "execution_count": 33,
   "metadata": {},
   "outputs": [],
   "source": [
    "# Specify the required columns\n",
    "english_prescribing_columns = [\n",
    "    'drv_processing_period_start_date_key',\n",
    "    'drv_primary_care_organisation_key',\n",
    "    'drv_prescribing_practice_key',\n",
    "    'drv_prescribing_chemical_key',\n",
    "    'src_english_prescribing_items'\n",
    "]"
   ]
  },
  {
   "cell_type": "code",
   "execution_count": 34,
   "metadata": {},
   "outputs": [],
   "source": [
    "# Specify the filter predicates to be applied - We are only interested in the fact rows that correspond to the subset of the Prescribing Chemical Keys in our Prescribing Chemical DataFrame\n",
    "english_prescribing_key_filter = [\n",
    "    ('drv_prescribing_chemical_key', 'in', prescribing_chemical['drv_prescribing_chemical_key'])\n",
    "]"
   ]
  },
  {
   "cell_type": "markdown",
   "metadata": {},
   "source": [
    "#### Create an English Prescribing 2019 DataFrame"
   ]
  },
  {
   "cell_type": "code",
   "execution_count": 35,
   "metadata": {},
   "outputs": [
    {
     "data": {
      "text/plain": [
       "Timedelta('0 days 00:00:07.883614')"
      ]
     },
     "execution_count": 35,
     "metadata": {},
     "output_type": "execute_result"
    }
   ],
   "source": [
    "# Capture the execution start time\n",
    "execution_start_time = pd.Timestamp.now()\n",
    "\n",
    "# Load the data after the column selection and filter predicates have been applied\n",
    "english_prescribing_2019 = pd.read_parquet(output_english_prescriptions_2019.data_file_name, columns=english_prescribing_columns, filters=english_prescribing_key_filter)\n",
    "\n",
    "# Return the execution duration\n",
    "pd.Timestamp.now() - execution_start_time"
   ]
  },
  {
   "cell_type": "code",
   "execution_count": 36,
   "metadata": {},
   "outputs": [
    {
     "data": {
      "text/html": [
       "<div>\n",
       "<style scoped>\n",
       "    .dataframe tbody tr th:only-of-type {\n",
       "        vertical-align: middle;\n",
       "    }\n",
       "\n",
       "    .dataframe tbody tr th {\n",
       "        vertical-align: top;\n",
       "    }\n",
       "\n",
       "    .dataframe thead th {\n",
       "        text-align: right;\n",
       "    }\n",
       "</style>\n",
       "<table border=\"1\" class=\"dataframe\">\n",
       "  <thead>\n",
       "    <tr style=\"text-align: right;\">\n",
       "      <th></th>\n",
       "      <th>drv_processing_period_start_date_key</th>\n",
       "      <th>drv_primary_care_organisation_key</th>\n",
       "      <th>drv_prescribing_practice_key</th>\n",
       "      <th>drv_prescribing_chemical_key</th>\n",
       "      <th>src_english_prescribing_items</th>\n",
       "    </tr>\n",
       "  </thead>\n",
       "  <tbody>\n",
       "    <tr>\n",
       "      <th>646002</th>\n",
       "      <td>20190501</td>\n",
       "      <td>496</td>\n",
       "      <td>16496</td>\n",
       "      <td>62476</td>\n",
       "      <td>3</td>\n",
       "    </tr>\n",
       "    <tr>\n",
       "      <th>1452546</th>\n",
       "      <td>20191001</td>\n",
       "      <td>519</td>\n",
       "      <td>16406</td>\n",
       "      <td>36988</td>\n",
       "      <td>2</td>\n",
       "    </tr>\n",
       "    <tr>\n",
       "      <th>1651468</th>\n",
       "      <td>20191101</td>\n",
       "      <td>588</td>\n",
       "      <td>41306</td>\n",
       "      <td>58014</td>\n",
       "      <td>9</td>\n",
       "    </tr>\n",
       "    <tr>\n",
       "      <th>1550103</th>\n",
       "      <td>20191001</td>\n",
       "      <td>659</td>\n",
       "      <td>20460</td>\n",
       "      <td>35335</td>\n",
       "      <td>1</td>\n",
       "    </tr>\n",
       "    <tr>\n",
       "      <th>1649095</th>\n",
       "      <td>20191101</td>\n",
       "      <td>586</td>\n",
       "      <td>22353</td>\n",
       "      <td>34541</td>\n",
       "      <td>1</td>\n",
       "    </tr>\n",
       "  </tbody>\n",
       "</table>\n",
       "</div>"
      ],
      "text/plain": [
       "         drv_processing_period_start_date_key  \\\n",
       "646002                               20190501   \n",
       "1452546                              20191001   \n",
       "1651468                              20191101   \n",
       "1550103                              20191001   \n",
       "1649095                              20191101   \n",
       "\n",
       "         drv_primary_care_organisation_key  drv_prescribing_practice_key  \\\n",
       "646002                                 496                         16496   \n",
       "1452546                                519                         16406   \n",
       "1651468                                588                         41306   \n",
       "1550103                                659                         20460   \n",
       "1649095                                586                         22353   \n",
       "\n",
       "         drv_prescribing_chemical_key  src_english_prescribing_items  \n",
       "646002                          62476                              3  \n",
       "1452546                         36988                              2  \n",
       "1651468                         58014                              9  \n",
       "1550103                         35335                              1  \n",
       "1649095                         34541                              1  "
      ]
     },
     "execution_count": 36,
     "metadata": {},
     "output_type": "execute_result"
    }
   ],
   "source": [
    "# Preview a sample of the data\n",
    "english_prescribing_2019.sample(n=5, random_state=1)"
   ]
  },
  {
   "cell_type": "code",
   "execution_count": 37,
   "metadata": {},
   "outputs": [
    {
     "name": "stdout",
     "output_type": "stream",
     "text": [
      "<class 'pandas.core.frame.DataFrame'>\n",
      "RangeIndex: 1905926 entries, 0 to 1905925\n",
      "Data columns (total 5 columns):\n",
      " #   Column                                Non-Null Count    Dtype\n",
      "---  ------                                --------------    -----\n",
      " 0   drv_processing_period_start_date_key  1905926 non-null  int32\n",
      " 1   drv_primary_care_organisation_key     1905926 non-null  int32\n",
      " 2   drv_prescribing_practice_key          1905926 non-null  int32\n",
      " 3   drv_prescribing_chemical_key          1905926 non-null  int32\n",
      " 4   src_english_prescribing_items         1905926 non-null  int32\n",
      "dtypes: int32(5)\n",
      "memory usage: 36.4 MB\n"
     ]
    }
   ],
   "source": [
    "# Check the size in memory\n",
    "english_prescribing_2019.info(memory_usage='deep', null_counts=True, verbose=True)"
   ]
  },
  {
   "cell_type": "markdown",
   "metadata": {},
   "source": [
    "#### Create an English Prescribing 2020 DataFrame"
   ]
  },
  {
   "cell_type": "code",
   "execution_count": 38,
   "metadata": {},
   "outputs": [
    {
     "data": {
      "text/plain": [
       "Timedelta('0 days 00:00:06.639458')"
      ]
     },
     "execution_count": 38,
     "metadata": {},
     "output_type": "execute_result"
    }
   ],
   "source": [
    "# Capture the execution start time\n",
    "execution_start_time = pd.Timestamp.now()\n",
    "\n",
    "# Load the data after the column selection and filter predicates have been applied\n",
    "english_prescribing_2020 = pd.read_parquet(output_english_prescriptions_2020.data_file_name, columns=english_prescribing_columns, filters=english_prescribing_key_filter)\n",
    "\n",
    "# Return the execution duration\n",
    "pd.Timestamp.now() - execution_start_time"
   ]
  },
  {
   "cell_type": "code",
   "execution_count": 39,
   "metadata": {},
   "outputs": [
    {
     "data": {
      "text/html": [
       "<div>\n",
       "<style scoped>\n",
       "    .dataframe tbody tr th:only-of-type {\n",
       "        vertical-align: middle;\n",
       "    }\n",
       "\n",
       "    .dataframe tbody tr th {\n",
       "        vertical-align: top;\n",
       "    }\n",
       "\n",
       "    .dataframe thead th {\n",
       "        text-align: right;\n",
       "    }\n",
       "</style>\n",
       "<table border=\"1\" class=\"dataframe\">\n",
       "  <thead>\n",
       "    <tr style=\"text-align: right;\">\n",
       "      <th></th>\n",
       "      <th>drv_processing_period_start_date_key</th>\n",
       "      <th>drv_primary_care_organisation_key</th>\n",
       "      <th>drv_prescribing_practice_key</th>\n",
       "      <th>drv_prescribing_chemical_key</th>\n",
       "      <th>src_english_prescribing_items</th>\n",
       "    </tr>\n",
       "  </thead>\n",
       "  <tbody>\n",
       "    <tr>\n",
       "      <th>497764</th>\n",
       "      <td>20200401</td>\n",
       "      <td>1306</td>\n",
       "      <td>24070</td>\n",
       "      <td>34244</td>\n",
       "      <td>1</td>\n",
       "    </tr>\n",
       "    <tr>\n",
       "      <th>1617845</th>\n",
       "      <td>20201101</td>\n",
       "      <td>1419</td>\n",
       "      <td>21747</td>\n",
       "      <td>34246</td>\n",
       "      <td>2</td>\n",
       "    </tr>\n",
       "    <tr>\n",
       "      <th>1461134</th>\n",
       "      <td>20201001</td>\n",
       "      <td>1416</td>\n",
       "      <td>32508</td>\n",
       "      <td>34541</td>\n",
       "      <td>3</td>\n",
       "    </tr>\n",
       "    <tr>\n",
       "      <th>902672</th>\n",
       "      <td>20200601</td>\n",
       "      <td>1447</td>\n",
       "      <td>42410</td>\n",
       "      <td>34244</td>\n",
       "      <td>3</td>\n",
       "    </tr>\n",
       "    <tr>\n",
       "      <th>207491</th>\n",
       "      <td>20200201</td>\n",
       "      <td>588</td>\n",
       "      <td>28449</td>\n",
       "      <td>34245</td>\n",
       "      <td>1</td>\n",
       "    </tr>\n",
       "  </tbody>\n",
       "</table>\n",
       "</div>"
      ],
      "text/plain": [
       "         drv_processing_period_start_date_key  \\\n",
       "497764                               20200401   \n",
       "1617845                              20201101   \n",
       "1461134                              20201001   \n",
       "902672                               20200601   \n",
       "207491                               20200201   \n",
       "\n",
       "         drv_primary_care_organisation_key  drv_prescribing_practice_key  \\\n",
       "497764                                1306                         24070   \n",
       "1617845                               1419                         21747   \n",
       "1461134                               1416                         32508   \n",
       "902672                                1447                         42410   \n",
       "207491                                 588                         28449   \n",
       "\n",
       "         drv_prescribing_chemical_key  src_english_prescribing_items  \n",
       "497764                          34244                              1  \n",
       "1617845                         34246                              2  \n",
       "1461134                         34541                              3  \n",
       "902672                          34244                              3  \n",
       "207491                          34245                              1  "
      ]
     },
     "execution_count": 39,
     "metadata": {},
     "output_type": "execute_result"
    }
   ],
   "source": [
    "# Preview a sample of the data\n",
    "english_prescribing_2020.sample(n=5, random_state=1)"
   ]
  },
  {
   "cell_type": "code",
   "execution_count": 40,
   "metadata": {},
   "outputs": [
    {
     "name": "stdout",
     "output_type": "stream",
     "text": [
      "<class 'pandas.core.frame.DataFrame'>\n",
      "RangeIndex: 1823291 entries, 0 to 1823290\n",
      "Data columns (total 5 columns):\n",
      " #   Column                                Non-Null Count    Dtype\n",
      "---  ------                                --------------    -----\n",
      " 0   drv_processing_period_start_date_key  1823291 non-null  int32\n",
      " 1   drv_primary_care_organisation_key     1823291 non-null  int32\n",
      " 2   drv_prescribing_practice_key          1823291 non-null  int32\n",
      " 3   drv_prescribing_chemical_key          1823291 non-null  int32\n",
      " 4   src_english_prescribing_items         1823291 non-null  int32\n",
      "dtypes: int32(5)\n",
      "memory usage: 34.8 MB\n"
     ]
    }
   ],
   "source": [
    "# Check the size in memory\n",
    "english_prescribing_2020.info(memory_usage='deep', null_counts=True, verbose=True)"
   ]
  },
  {
   "cell_type": "markdown",
   "metadata": {},
   "source": [
    "#### Create an English Prescribing 2021 DataFrame"
   ]
  },
  {
   "cell_type": "code",
   "execution_count": 41,
   "metadata": {},
   "outputs": [
    {
     "data": {
      "text/plain": [
       "Timedelta('0 days 00:00:03.789186')"
      ]
     },
     "execution_count": 41,
     "metadata": {},
     "output_type": "execute_result"
    }
   ],
   "source": [
    "# Capture the execution start time\n",
    "execution_start_time = pd.Timestamp.now()\n",
    "\n",
    "# Load the data after the column selection and filter predicates have been applied\n",
    "english_prescribing_2021 = pd.read_parquet(output_english_prescriptions_2021.data_file_name, columns=english_prescribing_columns, filters=english_prescribing_key_filter)\n",
    "\n",
    "# Return the execution duration\n",
    "pd.Timestamp.now() - execution_start_time"
   ]
  },
  {
   "cell_type": "code",
   "execution_count": 42,
   "metadata": {},
   "outputs": [
    {
     "data": {
      "text/html": [
       "<div>\n",
       "<style scoped>\n",
       "    .dataframe tbody tr th:only-of-type {\n",
       "        vertical-align: middle;\n",
       "    }\n",
       "\n",
       "    .dataframe tbody tr th {\n",
       "        vertical-align: top;\n",
       "    }\n",
       "\n",
       "    .dataframe thead th {\n",
       "        text-align: right;\n",
       "    }\n",
       "</style>\n",
       "<table border=\"1\" class=\"dataframe\">\n",
       "  <thead>\n",
       "    <tr style=\"text-align: right;\">\n",
       "      <th></th>\n",
       "      <th>drv_processing_period_start_date_key</th>\n",
       "      <th>drv_primary_care_organisation_key</th>\n",
       "      <th>drv_prescribing_practice_key</th>\n",
       "      <th>drv_prescribing_chemical_key</th>\n",
       "      <th>src_english_prescribing_items</th>\n",
       "    </tr>\n",
       "  </thead>\n",
       "  <tbody>\n",
       "    <tr>\n",
       "      <th>633862</th>\n",
       "      <td>20210501</td>\n",
       "      <td>1404</td>\n",
       "      <td>20826</td>\n",
       "      <td>87623</td>\n",
       "      <td>1</td>\n",
       "    </tr>\n",
       "    <tr>\n",
       "      <th>642740</th>\n",
       "      <td>20210501</td>\n",
       "      <td>1411</td>\n",
       "      <td>33847</td>\n",
       "      <td>34022</td>\n",
       "      <td>2</td>\n",
       "    </tr>\n",
       "    <tr>\n",
       "      <th>423697</th>\n",
       "      <td>20210301</td>\n",
       "      <td>1447</td>\n",
       "      <td>19901</td>\n",
       "      <td>36985</td>\n",
       "      <td>1</td>\n",
       "    </tr>\n",
       "    <tr>\n",
       "      <th>506891</th>\n",
       "      <td>20210401</td>\n",
       "      <td>1418</td>\n",
       "      <td>17308</td>\n",
       "      <td>58014</td>\n",
       "      <td>1</td>\n",
       "    </tr>\n",
       "    <tr>\n",
       "      <th>325311</th>\n",
       "      <td>20210301</td>\n",
       "      <td>1320</td>\n",
       "      <td>22184</td>\n",
       "      <td>58984</td>\n",
       "      <td>1</td>\n",
       "    </tr>\n",
       "  </tbody>\n",
       "</table>\n",
       "</div>"
      ],
      "text/plain": [
       "        drv_processing_period_start_date_key  \\\n",
       "633862                              20210501   \n",
       "642740                              20210501   \n",
       "423697                              20210301   \n",
       "506891                              20210401   \n",
       "325311                              20210301   \n",
       "\n",
       "        drv_primary_care_organisation_key  drv_prescribing_practice_key  \\\n",
       "633862                               1404                         20826   \n",
       "642740                               1411                         33847   \n",
       "423697                               1447                         19901   \n",
       "506891                               1418                         17308   \n",
       "325311                               1320                         22184   \n",
       "\n",
       "        drv_prescribing_chemical_key  src_english_prescribing_items  \n",
       "633862                         87623                              1  \n",
       "642740                         34022                              2  \n",
       "423697                         36985                              1  \n",
       "506891                         58014                              1  \n",
       "325311                         58984                              1  "
      ]
     },
     "execution_count": 42,
     "metadata": {},
     "output_type": "execute_result"
    }
   ],
   "source": [
    "# Preview a sample of the data\n",
    "english_prescribing_2021.sample(n=5, random_state=1)"
   ]
  },
  {
   "cell_type": "code",
   "execution_count": 43,
   "metadata": {},
   "outputs": [
    {
     "name": "stdout",
     "output_type": "stream",
     "text": [
      "<class 'pandas.core.frame.DataFrame'>\n",
      "RangeIndex: 882170 entries, 0 to 882169\n",
      "Data columns (total 5 columns):\n",
      " #   Column                                Non-Null Count   Dtype\n",
      "---  ------                                --------------   -----\n",
      " 0   drv_processing_period_start_date_key  882170 non-null  int32\n",
      " 1   drv_primary_care_organisation_key     882170 non-null  int32\n",
      " 2   drv_prescribing_practice_key          882170 non-null  int32\n",
      " 3   drv_prescribing_chemical_key          882170 non-null  int32\n",
      " 4   src_english_prescribing_items         882170 non-null  int32\n",
      "dtypes: int32(5)\n",
      "memory usage: 16.8 MB\n"
     ]
    }
   ],
   "source": [
    "# Check the size in memory\n",
    "english_prescribing_2021.info(memory_usage='deep', null_counts=True, verbose=True)"
   ]
  },
  {
   "cell_type": "markdown",
   "metadata": {},
   "source": [
    "### Step 3 - Combine the fact data"
   ]
  },
  {
   "cell_type": "code",
   "execution_count": 44,
   "metadata": {},
   "outputs": [
    {
     "data": {
      "text/plain": [
       "Timedelta('0 days 00:00:00.087002')"
      ]
     },
     "execution_count": 44,
     "metadata": {},
     "output_type": "execute_result"
    }
   ],
   "source": [
    "# Capture the execution start time\n",
    "execution_start_time = pd.Timestamp.now()\n",
    "\n",
    "# Combine the three fact DataFrames\n",
    "english_prescribing = pd.concat([english_prescribing_2019, english_prescribing_2020, english_prescribing_2021])\n",
    "\n",
    "# Return the execution duration\n",
    "pd.Timestamp.now() - execution_start_time"
   ]
  },
  {
   "cell_type": "code",
   "execution_count": 45,
   "metadata": {},
   "outputs": [
    {
     "name": "stdout",
     "output_type": "stream",
     "text": [
      "<class 'pandas.core.frame.DataFrame'>\n",
      "Int64Index: 4611387 entries, 0 to 882169\n",
      "Data columns (total 5 columns):\n",
      " #   Column                                Non-Null Count    Dtype\n",
      "---  ------                                --------------    -----\n",
      " 0   drv_processing_period_start_date_key  4611387 non-null  int32\n",
      " 1   drv_primary_care_organisation_key     4611387 non-null  int32\n",
      " 2   drv_prescribing_practice_key          4611387 non-null  int32\n",
      " 3   drv_prescribing_chemical_key          4611387 non-null  int32\n",
      " 4   src_english_prescribing_items         4611387 non-null  int32\n",
      "dtypes: int32(5)\n",
      "memory usage: 123.1 MB\n"
     ]
    }
   ],
   "source": [
    "# Check the size in memory\n",
    "english_prescribing.info(memory_usage='deep', null_counts=True, verbose=True)"
   ]
  },
  {
   "cell_type": "code",
   "execution_count": 46,
   "metadata": {},
   "outputs": [],
   "source": [
    "# Free up some memory by dropping the redundant DataFrames\n",
    "del english_prescribing_2019, english_prescribing_2020, english_prescribing_2021"
   ]
  },
  {
   "cell_type": "markdown",
   "metadata": {},
   "source": [
    "### Step 4 - Denormalise the dimension data into the fact data"
   ]
  },
  {
   "cell_type": "code",
   "execution_count": 47,
   "metadata": {},
   "outputs": [
    {
     "data": {
      "text/plain": [
       "Timedelta('0 days 00:00:04.633174')"
      ]
     },
     "execution_count": 47,
     "metadata": {},
     "output_type": "execute_result"
    }
   ],
   "source": [
    "# Capture the execution start time\n",
    "execution_start_time = pd.Timestamp.now()\n",
    "\n",
    "# Merge the dimension DataFrames into the fact DataFrame and drop columns that are not longer needed\n",
    "english_prescribing_wide = (\n",
    "    english_prescribing\n",
    "    .merge(date, left_on='drv_processing_period_start_date_key', right_on='drv_date_key')\n",
    "    .merge(prescribing_chemical, left_on='drv_prescribing_chemical_key', right_on='drv_prescribing_chemical_key')\n",
    "    .merge(prescribing_practice,  left_on='drv_prescribing_practice_key', right_on='drv_prescribing_practice_key')\n",
    "    .merge(primary_care_organisation,  left_on='drv_primary_care_organisation_key', right_on='drv_primary_care_organisation_key')\n",
    ").drop(columns=[\n",
    "    'drv_processing_period_start_date_key',\n",
    "    'drv_date_key', \n",
    "    'drv_prescribing_chemical_key', \n",
    "    'drv_prescribing_practice_key', \n",
    "    'drv_primary_care_organisation_key'\n",
    "]) \n",
    "\n",
    "# Return the execution duration\n",
    "pd.Timestamp.now() - execution_start_time"
   ]
  },
  {
   "cell_type": "code",
   "execution_count": 48,
   "metadata": {},
   "outputs": [
    {
     "name": "stdout",
     "output_type": "stream",
     "text": [
      "<class 'pandas.core.frame.DataFrame'>\n",
      "Int64Index: 4611387 entries, 0 to 4611386\n",
      "Data columns (total 8 columns):\n",
      " #   Column                                      Non-Null Count    Dtype \n",
      "---  ------                                      --------------    ----- \n",
      " 0   src_english_prescribing_items               4611387 non-null  int32 \n",
      " 1   drv_year                                    4611387 non-null  int32 \n",
      " 2   srk_british_national_formulary_code         4611387 non-null  object\n",
      " 3   src_british_national_formulary_description  4611387 non-null  object\n",
      " 4   srk_prescribing_practice_code               4611387 non-null  object\n",
      " 5   src_prescribing_practice                    4611387 non-null  object\n",
      " 6   srk_primary_care_organisation_code          4611387 non-null  object\n",
      " 7   src_primary_care_organisation               4611387 non-null  object\n",
      "dtypes: int32(2), object(6)\n",
      "memory usage: 1.9 GB\n"
     ]
    }
   ],
   "source": [
    "# Check the size in memory\n",
    "english_prescribing_wide.info(memory_usage='deep', null_counts=True, verbose=True)"
   ]
  },
  {
   "cell_type": "code",
   "execution_count": 49,
   "metadata": {},
   "outputs": [],
   "source": [
    "# Free up some memory by dropping the redundant DataFrame\n",
    "del english_prescribing"
   ]
  },
  {
   "cell_type": "markdown",
   "metadata": {},
   "source": [
    "### Step 5 – Analyse the data"
   ]
  },
  {
   "cell_type": "markdown",
   "metadata": {},
   "source": [
    "#### What are the top 10 blood glucose test strip items?"
   ]
  },
  {
   "cell_type": "code",
   "execution_count": 50,
   "metadata": {},
   "outputs": [
    {
     "data": {
      "text/html": [
       "<div>\n",
       "<style scoped>\n",
       "    .dataframe tbody tr th:only-of-type {\n",
       "        vertical-align: middle;\n",
       "    }\n",
       "\n",
       "    .dataframe tbody tr th {\n",
       "        vertical-align: top;\n",
       "    }\n",
       "\n",
       "    .dataframe thead th {\n",
       "        text-align: right;\n",
       "    }\n",
       "</style>\n",
       "<table border=\"1\" class=\"dataframe\">\n",
       "  <thead>\n",
       "    <tr style=\"text-align: right;\">\n",
       "      <th></th>\n",
       "      <th></th>\n",
       "      <th>src_english_prescribing_items</th>\n",
       "    </tr>\n",
       "    <tr>\n",
       "      <th>srk_british_national_formulary_code</th>\n",
       "      <th>src_british_national_formulary_description</th>\n",
       "      <th></th>\n",
       "    </tr>\n",
       "  </thead>\n",
       "  <tbody>\n",
       "    <tr>\n",
       "      <th>0601060D0CUABA0</th>\n",
       "      <th>GlucoRx Nexus testing strips</th>\n",
       "      <td>1212243</td>\n",
       "    </tr>\n",
       "    <tr>\n",
       "      <th>0601060D0CIAAA0</th>\n",
       "      <th>WaveSense JAZZ testing strips</th>\n",
       "      <td>565761</td>\n",
       "    </tr>\n",
       "    <tr>\n",
       "      <th>0601060D0CCAAA0</th>\n",
       "      <th>Aviva testing strips</th>\n",
       "      <td>558627</td>\n",
       "    </tr>\n",
       "    <tr>\n",
       "      <th>0601060D0CSAAA0</th>\n",
       "      <th>Mobile cassette</th>\n",
       "      <td>495687</td>\n",
       "    </tr>\n",
       "    <tr>\n",
       "      <th>0601060D0DWAAA0</th>\n",
       "      <th>Performa testing strips</th>\n",
       "      <td>445228</td>\n",
       "    </tr>\n",
       "    <tr>\n",
       "      <th>0601060D0BQAEA0</th>\n",
       "      <th>GlucoMen areo Sensor testing strips</th>\n",
       "      <td>417173</td>\n",
       "    </tr>\n",
       "    <tr>\n",
       "      <th>0601060D0DQAAA0</th>\n",
       "      <th>TEE2 testing strips</th>\n",
       "      <td>394264</td>\n",
       "    </tr>\n",
       "    <tr>\n",
       "      <th>0601060D0DGAAA0</th>\n",
       "      <th>Contour Next testing strips</th>\n",
       "      <td>384447</td>\n",
       "    </tr>\n",
       "    <tr>\n",
       "      <th>0601060D0BJADA0</th>\n",
       "      <th>FreeStyle Optium testing strips</th>\n",
       "      <td>252956</td>\n",
       "    </tr>\n",
       "    <tr>\n",
       "      <th>0601060D0DKAAA0</th>\n",
       "      <th>TRUEyou testing strips</th>\n",
       "      <td>218911</td>\n",
       "    </tr>\n",
       "  </tbody>\n",
       "</table>\n",
       "</div>"
      ],
      "text/plain": [
       "                                                                                src_english_prescribing_items\n",
       "srk_british_national_formulary_code src_british_national_formulary_description                               \n",
       "0601060D0CUABA0                     GlucoRx Nexus testing strips                                      1212243\n",
       "0601060D0CIAAA0                     WaveSense JAZZ testing strips                                      565761\n",
       "0601060D0CCAAA0                     Aviva testing strips                                               558627\n",
       "0601060D0CSAAA0                     Mobile cassette                                                    495687\n",
       "0601060D0DWAAA0                     Performa testing strips                                            445228\n",
       "0601060D0BQAEA0                     GlucoMen areo Sensor testing strips                                417173\n",
       "0601060D0DQAAA0                     TEE2 testing strips                                                394264\n",
       "0601060D0DGAAA0                     Contour Next testing strips                                        384447\n",
       "0601060D0BJADA0                     FreeStyle Optium testing strips                                    252956\n",
       "0601060D0DKAAA0                     TRUEyou testing strips                                             218911"
      ]
     },
     "execution_count": 50,
     "metadata": {},
     "output_type": "execute_result"
    }
   ],
   "source": [
    "#In 2019\n",
    "english_prescribing_wide[english_prescribing_wide['drv_year'] == 2019][['srk_british_national_formulary_code', 'src_british_national_formulary_description', 'src_english_prescribing_items']].groupby(by=['srk_british_national_formulary_code', 'src_british_national_formulary_description']).sum().sort_values(by='src_english_prescribing_items', ascending=False).head(10)"
   ]
  },
  {
   "cell_type": "code",
   "execution_count": 51,
   "metadata": {},
   "outputs": [
    {
     "data": {
      "text/html": [
       "<div>\n",
       "<style scoped>\n",
       "    .dataframe tbody tr th:only-of-type {\n",
       "        vertical-align: middle;\n",
       "    }\n",
       "\n",
       "    .dataframe tbody tr th {\n",
       "        vertical-align: top;\n",
       "    }\n",
       "\n",
       "    .dataframe thead th {\n",
       "        text-align: right;\n",
       "    }\n",
       "</style>\n",
       "<table border=\"1\" class=\"dataframe\">\n",
       "  <thead>\n",
       "    <tr style=\"text-align: right;\">\n",
       "      <th></th>\n",
       "      <th></th>\n",
       "      <th>src_english_prescribing_items</th>\n",
       "    </tr>\n",
       "    <tr>\n",
       "      <th>srk_british_national_formulary_code</th>\n",
       "      <th>src_british_national_formulary_description</th>\n",
       "      <th></th>\n",
       "    </tr>\n",
       "  </thead>\n",
       "  <tbody>\n",
       "    <tr>\n",
       "      <th>0601060D0CUABA0</th>\n",
       "      <th>GlucoRx Nexus testing strips</th>\n",
       "      <td>1179977</td>\n",
       "    </tr>\n",
       "    <tr>\n",
       "      <th>0601060D0CIAAA0</th>\n",
       "      <th>WaveSense JAZZ testing strips</th>\n",
       "      <td>640254</td>\n",
       "    </tr>\n",
       "    <tr>\n",
       "      <th>0601060D0DQAAA0</th>\n",
       "      <th>TEE2 testing strips</th>\n",
       "      <td>511568</td>\n",
       "    </tr>\n",
       "    <tr>\n",
       "      <th>0601060D0DWAAA0</th>\n",
       "      <th>Performa testing strips</th>\n",
       "      <td>467861</td>\n",
       "    </tr>\n",
       "    <tr>\n",
       "      <th>0601060D0CSAAA0</th>\n",
       "      <th>Mobile cassette</th>\n",
       "      <td>465622</td>\n",
       "    </tr>\n",
       "    <tr>\n",
       "      <th>0601060D0CCAAA0</th>\n",
       "      <th>Aviva testing strips</th>\n",
       "      <td>450995</td>\n",
       "    </tr>\n",
       "    <tr>\n",
       "      <th>0601060D0BQAEA0</th>\n",
       "      <th>GlucoMen areo Sensor testing strips</th>\n",
       "      <td>422445</td>\n",
       "    </tr>\n",
       "    <tr>\n",
       "      <th>0601060D0DGAAA0</th>\n",
       "      <th>Contour Next testing strips</th>\n",
       "      <td>332670</td>\n",
       "    </tr>\n",
       "    <tr>\n",
       "      <th>0601060D0EDAAA0</th>\n",
       "      <th>Finetest Lite testing strips</th>\n",
       "      <td>301203</td>\n",
       "    </tr>\n",
       "    <tr>\n",
       "      <th>0601060D0BJADA0</th>\n",
       "      <th>FreeStyle Optium testing strips</th>\n",
       "      <td>227228</td>\n",
       "    </tr>\n",
       "  </tbody>\n",
       "</table>\n",
       "</div>"
      ],
      "text/plain": [
       "                                                                                src_english_prescribing_items\n",
       "srk_british_national_formulary_code src_british_national_formulary_description                               \n",
       "0601060D0CUABA0                     GlucoRx Nexus testing strips                                      1179977\n",
       "0601060D0CIAAA0                     WaveSense JAZZ testing strips                                      640254\n",
       "0601060D0DQAAA0                     TEE2 testing strips                                                511568\n",
       "0601060D0DWAAA0                     Performa testing strips                                            467861\n",
       "0601060D0CSAAA0                     Mobile cassette                                                    465622\n",
       "0601060D0CCAAA0                     Aviva testing strips                                               450995\n",
       "0601060D0BQAEA0                     GlucoMen areo Sensor testing strips                                422445\n",
       "0601060D0DGAAA0                     Contour Next testing strips                                        332670\n",
       "0601060D0EDAAA0                     Finetest Lite testing strips                                       301203\n",
       "0601060D0BJADA0                     FreeStyle Optium testing strips                                    227228"
      ]
     },
     "execution_count": 51,
     "metadata": {},
     "output_type": "execute_result"
    }
   ],
   "source": [
    "# In 2020\n",
    "english_prescribing_wide[english_prescribing_wide['drv_year'] == 2020][['srk_british_national_formulary_code', 'src_british_national_formulary_description', 'src_english_prescribing_items']].groupby(by=['srk_british_national_formulary_code', 'src_british_national_formulary_description']).sum().sort_values(by='src_english_prescribing_items', ascending=False).head(10)"
   ]
  },
  {
   "cell_type": "code",
   "execution_count": 52,
   "metadata": {},
   "outputs": [
    {
     "data": {
      "text/html": [
       "<div>\n",
       "<style scoped>\n",
       "    .dataframe tbody tr th:only-of-type {\n",
       "        vertical-align: middle;\n",
       "    }\n",
       "\n",
       "    .dataframe tbody tr th {\n",
       "        vertical-align: top;\n",
       "    }\n",
       "\n",
       "    .dataframe thead th {\n",
       "        text-align: right;\n",
       "    }\n",
       "</style>\n",
       "<table border=\"1\" class=\"dataframe\">\n",
       "  <thead>\n",
       "    <tr style=\"text-align: right;\">\n",
       "      <th></th>\n",
       "      <th></th>\n",
       "      <th>src_english_prescribing_items</th>\n",
       "    </tr>\n",
       "    <tr>\n",
       "      <th>srk_british_national_formulary_code</th>\n",
       "      <th>src_british_national_formulary_description</th>\n",
       "      <th></th>\n",
       "    </tr>\n",
       "  </thead>\n",
       "  <tbody>\n",
       "    <tr>\n",
       "      <th>0601060D0CUABA0</th>\n",
       "      <th>GlucoRx Nexus testing strips</th>\n",
       "      <td>564884</td>\n",
       "    </tr>\n",
       "    <tr>\n",
       "      <th>0601060D0CIAAA0</th>\n",
       "      <th>WaveSense JAZZ testing strips</th>\n",
       "      <td>337503</td>\n",
       "    </tr>\n",
       "    <tr>\n",
       "      <th>0601060D0DQAAA0</th>\n",
       "      <th>TEE2 testing strips</th>\n",
       "      <td>264154</td>\n",
       "    </tr>\n",
       "    <tr>\n",
       "      <th>0601060D0DWAAA0</th>\n",
       "      <th>Performa testing strips</th>\n",
       "      <td>234710</td>\n",
       "    </tr>\n",
       "    <tr>\n",
       "      <th>0601060D0CSAAA0</th>\n",
       "      <th>Mobile cassette</th>\n",
       "      <td>208834</td>\n",
       "    </tr>\n",
       "    <tr>\n",
       "      <th>0601060D0BQAEA0</th>\n",
       "      <th>GlucoMen areo Sensor testing strips</th>\n",
       "      <td>208517</td>\n",
       "    </tr>\n",
       "    <tr>\n",
       "      <th>0601060D0CCAAA0</th>\n",
       "      <th>Aviva testing strips</th>\n",
       "      <td>187763</td>\n",
       "    </tr>\n",
       "    <tr>\n",
       "      <th>0601060D0EDAAA0</th>\n",
       "      <th>Finetest Lite testing strips</th>\n",
       "      <td>181144</td>\n",
       "    </tr>\n",
       "    <tr>\n",
       "      <th>0601060D0DGAAA0</th>\n",
       "      <th>Contour Next testing strips</th>\n",
       "      <td>148304</td>\n",
       "    </tr>\n",
       "    <tr>\n",
       "      <th>0601060D0BJADA0</th>\n",
       "      <th>FreeStyle Optium testing strips</th>\n",
       "      <td>103265</td>\n",
       "    </tr>\n",
       "  </tbody>\n",
       "</table>\n",
       "</div>"
      ],
      "text/plain": [
       "                                                                                src_english_prescribing_items\n",
       "srk_british_national_formulary_code src_british_national_formulary_description                               \n",
       "0601060D0CUABA0                     GlucoRx Nexus testing strips                                       564884\n",
       "0601060D0CIAAA0                     WaveSense JAZZ testing strips                                      337503\n",
       "0601060D0DQAAA0                     TEE2 testing strips                                                264154\n",
       "0601060D0DWAAA0                     Performa testing strips                                            234710\n",
       "0601060D0CSAAA0                     Mobile cassette                                                    208834\n",
       "0601060D0BQAEA0                     GlucoMen areo Sensor testing strips                                208517\n",
       "0601060D0CCAAA0                     Aviva testing strips                                               187763\n",
       "0601060D0EDAAA0                     Finetest Lite testing strips                                       181144\n",
       "0601060D0DGAAA0                     Contour Next testing strips                                        148304\n",
       "0601060D0BJADA0                     FreeStyle Optium testing strips                                    103265"
      ]
     },
     "execution_count": 52,
     "metadata": {},
     "output_type": "execute_result"
    }
   ],
   "source": [
    "# In 2021 up until June 2021\n",
    "english_prescribing_wide[english_prescribing_wide['drv_year'] == 2021][['srk_british_national_formulary_code', 'src_british_national_formulary_description', 'src_english_prescribing_items']].groupby(by=['srk_british_national_formulary_code', 'src_british_national_formulary_description']).sum().sort_values(by='src_english_prescribing_items', ascending=False).head(10)"
   ]
  },
  {
   "cell_type": "markdown",
   "metadata": {},
   "source": [
    "#### Which CCGs have prescribed the most blood glucose test strip items?"
   ]
  },
  {
   "cell_type": "code",
   "execution_count": 53,
   "metadata": {},
   "outputs": [
    {
     "data": {
      "text/html": [
       "<div>\n",
       "<style scoped>\n",
       "    .dataframe tbody tr th:only-of-type {\n",
       "        vertical-align: middle;\n",
       "    }\n",
       "\n",
       "    .dataframe tbody tr th {\n",
       "        vertical-align: top;\n",
       "    }\n",
       "\n",
       "    .dataframe thead th {\n",
       "        text-align: right;\n",
       "    }\n",
       "</style>\n",
       "<table border=\"1\" class=\"dataframe\">\n",
       "  <thead>\n",
       "    <tr style=\"text-align: right;\">\n",
       "      <th></th>\n",
       "      <th></th>\n",
       "      <th>src_english_prescribing_items</th>\n",
       "    </tr>\n",
       "    <tr>\n",
       "      <th>srk_primary_care_organisation_code</th>\n",
       "      <th>src_primary_care_organisation</th>\n",
       "      <th></th>\n",
       "    </tr>\n",
       "  </thead>\n",
       "  <tbody>\n",
       "    <tr>\n",
       "      <th>15E00</th>\n",
       "      <th>BIRMINGHAM AND SOLIHULL CCG</th>\n",
       "      <td>165837</td>\n",
       "    </tr>\n",
       "    <tr>\n",
       "      <th>06H00</th>\n",
       "      <th>CAMBRIDGESHIRE AND PETERBOROUGH CCG</th>\n",
       "      <td>112515</td>\n",
       "    </tr>\n",
       "    <tr>\n",
       "      <th>15N00</th>\n",
       "      <th>DEVON CCG</th>\n",
       "      <td>104458</td>\n",
       "    </tr>\n",
       "    <tr>\n",
       "      <th>15C00</th>\n",
       "      <th>BRISTOL, NORTH SOMERSET &amp; S GLOS CCG</th>\n",
       "      <td>96744</td>\n",
       "    </tr>\n",
       "    <tr>\n",
       "      <th>11J00</th>\n",
       "      <th>DORSET CCG</th>\n",
       "      <td>93350</td>\n",
       "    </tr>\n",
       "    <tr>\n",
       "      <th>04G00</th>\n",
       "      <th>NENE CCG</th>\n",
       "      <td>92260</td>\n",
       "    </tr>\n",
       "    <tr>\n",
       "      <th>15F00</th>\n",
       "      <th>LEEDS CCG</th>\n",
       "      <td>90188</td>\n",
       "    </tr>\n",
       "    <tr>\n",
       "      <th>15M00</th>\n",
       "      <th>DERBY &amp; DERBYSHIRE CCG</th>\n",
       "      <td>89705</td>\n",
       "    </tr>\n",
       "    <tr>\n",
       "      <th>05L00</th>\n",
       "      <th>SANDWELL AND WEST BIRMINGHAM CCG</th>\n",
       "      <td>85760</td>\n",
       "    </tr>\n",
       "    <tr>\n",
       "      <th>14L00</th>\n",
       "      <th>MANCHESTER CCG</th>\n",
       "      <td>83810</td>\n",
       "    </tr>\n",
       "  </tbody>\n",
       "</table>\n",
       "</div>"
      ],
      "text/plain": [
       "                                                                         src_english_prescribing_items\n",
       "srk_primary_care_organisation_code src_primary_care_organisation                                      \n",
       "15E00                              BIRMINGHAM AND SOLIHULL CCG                                  165837\n",
       "06H00                              CAMBRIDGESHIRE AND PETERBOROUGH CCG                          112515\n",
       "15N00                              DEVON CCG                                                    104458\n",
       "15C00                              BRISTOL, NORTH SOMERSET & S GLOS CCG                          96744\n",
       "11J00                              DORSET CCG                                                    93350\n",
       "04G00                              NENE CCG                                                      92260\n",
       "15F00                              LEEDS CCG                                                     90188\n",
       "15M00                              DERBY & DERBYSHIRE CCG                                        89705\n",
       "05L00                              SANDWELL AND WEST BIRMINGHAM CCG                              85760\n",
       "14L00                              MANCHESTER CCG                                                83810"
      ]
     },
     "execution_count": 53,
     "metadata": {},
     "output_type": "execute_result"
    }
   ],
   "source": [
    "# In 2019\n",
    "english_prescribing_wide[english_prescribing_wide['drv_year'] == 2019][['srk_primary_care_organisation_code', 'src_primary_care_organisation','src_english_prescribing_items']].groupby(by=['srk_primary_care_organisation_code', 'src_primary_care_organisation']).sum().sort_values(by='src_english_prescribing_items', ascending=False).head(10)"
   ]
  },
  {
   "cell_type": "code",
   "execution_count": 54,
   "metadata": {},
   "outputs": [
    {
     "data": {
      "text/html": [
       "<div>\n",
       "<style scoped>\n",
       "    .dataframe tbody tr th:only-of-type {\n",
       "        vertical-align: middle;\n",
       "    }\n",
       "\n",
       "    .dataframe tbody tr th {\n",
       "        vertical-align: top;\n",
       "    }\n",
       "\n",
       "    .dataframe thead th {\n",
       "        text-align: right;\n",
       "    }\n",
       "</style>\n",
       "<table border=\"1\" class=\"dataframe\">\n",
       "  <thead>\n",
       "    <tr style=\"text-align: right;\">\n",
       "      <th></th>\n",
       "      <th></th>\n",
       "      <th>src_english_prescribing_items</th>\n",
       "    </tr>\n",
       "    <tr>\n",
       "      <th>srk_primary_care_organisation_code</th>\n",
       "      <th>src_primary_care_organisation</th>\n",
       "      <th></th>\n",
       "    </tr>\n",
       "  </thead>\n",
       "  <tbody>\n",
       "    <tr>\n",
       "      <th>15E00</th>\n",
       "      <th>BIRMINGHAM AND SOLIHULL CCG</th>\n",
       "      <td>162015</td>\n",
       "    </tr>\n",
       "    <tr>\n",
       "      <th>91Q00</th>\n",
       "      <th>KENT AND MEDWAY CCG</th>\n",
       "      <td>154217</td>\n",
       "    </tr>\n",
       "    <tr>\n",
       "      <th>15N00</th>\n",
       "      <th>DEVON CCG</th>\n",
       "      <td>137184</td>\n",
       "    </tr>\n",
       "    <tr>\n",
       "      <th>72Q00</th>\n",
       "      <th>SOUTH EAST LONDON CCG</th>\n",
       "      <td>131107</td>\n",
       "    </tr>\n",
       "    <tr>\n",
       "      <th>15M00</th>\n",
       "      <th>DERBY &amp; DERBYSHIRE CCG</th>\n",
       "      <td>115930</td>\n",
       "    </tr>\n",
       "    <tr>\n",
       "      <th>06H00</th>\n",
       "      <th>CAMBRIDGESHIRE AND PETERBOROUGH CCG</th>\n",
       "      <td>110854</td>\n",
       "    </tr>\n",
       "    <tr>\n",
       "      <th>26A00</th>\n",
       "      <th>NORFOLK AND WAVENEY CCG</th>\n",
       "      <td>106603</td>\n",
       "    </tr>\n",
       "    <tr>\n",
       "      <th>52R00</th>\n",
       "      <th>NOTTINGHAM AND NOTTINGHAMSHIRE CCG</th>\n",
       "      <td>102896</td>\n",
       "    </tr>\n",
       "    <tr>\n",
       "      <th>36L00</th>\n",
       "      <th>SOUTH WEST LONDON CCG</th>\n",
       "      <td>102198</td>\n",
       "    </tr>\n",
       "    <tr>\n",
       "      <th>93C00</th>\n",
       "      <th>NORTH CENTRAL LONDON CCG</th>\n",
       "      <td>101324</td>\n",
       "    </tr>\n",
       "  </tbody>\n",
       "</table>\n",
       "</div>"
      ],
      "text/plain": [
       "                                                                        src_english_prescribing_items\n",
       "srk_primary_care_organisation_code src_primary_care_organisation                                     \n",
       "15E00                              BIRMINGHAM AND SOLIHULL CCG                                 162015\n",
       "91Q00                              KENT AND MEDWAY CCG                                         154217\n",
       "15N00                              DEVON CCG                                                   137184\n",
       "72Q00                              SOUTH EAST LONDON CCG                                       131107\n",
       "15M00                              DERBY & DERBYSHIRE CCG                                      115930\n",
       "06H00                              CAMBRIDGESHIRE AND PETERBOROUGH CCG                         110854\n",
       "26A00                              NORFOLK AND WAVENEY CCG                                     106603\n",
       "52R00                              NOTTINGHAM AND NOTTINGHAMSHIRE CCG                          102896\n",
       "36L00                              SOUTH WEST LONDON CCG                                       102198\n",
       "93C00                              NORTH CENTRAL LONDON CCG                                    101324"
      ]
     },
     "execution_count": 54,
     "metadata": {},
     "output_type": "execute_result"
    }
   ],
   "source": [
    "# In 2020\n",
    "english_prescribing_wide[english_prescribing_wide['drv_year'] == 2020][['srk_primary_care_organisation_code', 'src_primary_care_organisation','src_english_prescribing_items']].groupby(by=['srk_primary_care_organisation_code', 'src_primary_care_organisation']).sum().sort_values(by='src_english_prescribing_items', ascending=False).head(10)"
   ]
  },
  {
   "cell_type": "code",
   "execution_count": 55,
   "metadata": {},
   "outputs": [
    {
     "data": {
      "text/html": [
       "<div>\n",
       "<style scoped>\n",
       "    .dataframe tbody tr th:only-of-type {\n",
       "        vertical-align: middle;\n",
       "    }\n",
       "\n",
       "    .dataframe tbody tr th {\n",
       "        vertical-align: top;\n",
       "    }\n",
       "\n",
       "    .dataframe thead th {\n",
       "        text-align: right;\n",
       "    }\n",
       "</style>\n",
       "<table border=\"1\" class=\"dataframe\">\n",
       "  <thead>\n",
       "    <tr style=\"text-align: right;\">\n",
       "      <th></th>\n",
       "      <th></th>\n",
       "      <th>src_english_prescribing_items</th>\n",
       "    </tr>\n",
       "    <tr>\n",
       "      <th>srk_primary_care_organisation_code</th>\n",
       "      <th>src_primary_care_organisation</th>\n",
       "      <th></th>\n",
       "    </tr>\n",
       "  </thead>\n",
       "  <tbody>\n",
       "    <tr>\n",
       "      <th>91Q00</th>\n",
       "      <th>KENT AND MEDWAY CCG</th>\n",
       "      <td>98394</td>\n",
       "    </tr>\n",
       "    <tr>\n",
       "      <th>72Q00</th>\n",
       "      <th>SOUTH EAST LONDON CCG</th>\n",
       "      <td>88408</td>\n",
       "    </tr>\n",
       "    <tr>\n",
       "      <th>15E00</th>\n",
       "      <th>BIRMINGHAM AND SOLIHULL CCG</th>\n",
       "      <td>77638</td>\n",
       "    </tr>\n",
       "    <tr>\n",
       "      <th>26A00</th>\n",
       "      <th>NORFOLK AND WAVENEY CCG</th>\n",
       "      <td>68221</td>\n",
       "    </tr>\n",
       "    <tr>\n",
       "      <th>36L00</th>\n",
       "      <th>SOUTH WEST LONDON CCG</th>\n",
       "      <td>68113</td>\n",
       "    </tr>\n",
       "    <tr>\n",
       "      <th>52R00</th>\n",
       "      <th>NOTTINGHAM AND NOTTINGHAMSHIRE CCG</th>\n",
       "      <td>67173</td>\n",
       "    </tr>\n",
       "    <tr>\n",
       "      <th>93C00</th>\n",
       "      <th>NORTH CENTRAL LONDON CCG</th>\n",
       "      <td>66544</td>\n",
       "    </tr>\n",
       "    <tr>\n",
       "      <th>15N00</th>\n",
       "      <th>DEVON CCG</th>\n",
       "      <td>66312</td>\n",
       "    </tr>\n",
       "    <tr>\n",
       "      <th>A3A8R</th>\n",
       "      <th>NORTH EAST LONDON CCG</th>\n",
       "      <td>58423</td>\n",
       "    </tr>\n",
       "    <tr>\n",
       "      <th>W2U3Z</th>\n",
       "      <th>NORTH WEST LONDON CCG</th>\n",
       "      <td>58125</td>\n",
       "    </tr>\n",
       "  </tbody>\n",
       "</table>\n",
       "</div>"
      ],
      "text/plain": [
       "                                                                       src_english_prescribing_items\n",
       "srk_primary_care_organisation_code src_primary_care_organisation                                    \n",
       "91Q00                              KENT AND MEDWAY CCG                                         98394\n",
       "72Q00                              SOUTH EAST LONDON CCG                                       88408\n",
       "15E00                              BIRMINGHAM AND SOLIHULL CCG                                 77638\n",
       "26A00                              NORFOLK AND WAVENEY CCG                                     68221\n",
       "36L00                              SOUTH WEST LONDON CCG                                       68113\n",
       "52R00                              NOTTINGHAM AND NOTTINGHAMSHIRE CCG                          67173\n",
       "93C00                              NORTH CENTRAL LONDON CCG                                    66544\n",
       "15N00                              DEVON CCG                                                   66312\n",
       "A3A8R                              NORTH EAST LONDON CCG                                       58423\n",
       "W2U3Z                              NORTH WEST LONDON CCG                                       58125"
      ]
     },
     "execution_count": 55,
     "metadata": {},
     "output_type": "execute_result"
    }
   ],
   "source": [
    "# In 2021 up until June 2021\n",
    "english_prescribing_wide[english_prescribing_wide['drv_year'] == 2021][['srk_primary_care_organisation_code', 'src_primary_care_organisation','src_english_prescribing_items']].groupby(by=['srk_primary_care_organisation_code', 'src_primary_care_organisation']).sum().sort_values(by='src_english_prescribing_items', ascending=False).head(10)"
   ]
  },
  {
   "cell_type": "markdown",
   "metadata": {},
   "source": [
    "#### Which practices have prescribed the most blood glucose test strip items?"
   ]
  },
  {
   "cell_type": "code",
   "execution_count": 56,
   "metadata": {},
   "outputs": [
    {
     "data": {
      "text/html": [
       "<div>\n",
       "<style scoped>\n",
       "    .dataframe tbody tr th:only-of-type {\n",
       "        vertical-align: middle;\n",
       "    }\n",
       "\n",
       "    .dataframe tbody tr th {\n",
       "        vertical-align: top;\n",
       "    }\n",
       "\n",
       "    .dataframe thead th {\n",
       "        text-align: right;\n",
       "    }\n",
       "</style>\n",
       "<table border=\"1\" class=\"dataframe\">\n",
       "  <thead>\n",
       "    <tr style=\"text-align: right;\">\n",
       "      <th></th>\n",
       "      <th></th>\n",
       "      <th>src_english_prescribing_items</th>\n",
       "    </tr>\n",
       "    <tr>\n",
       "      <th>srk_prescribing_practice_code</th>\n",
       "      <th>src_prescribing_practice</th>\n",
       "      <th></th>\n",
       "    </tr>\n",
       "  </thead>\n",
       "  <tbody>\n",
       "    <tr>\n",
       "      <th>D81022</th>\n",
       "      <th>OCTAGON MEDICAL PRACTICE</th>\n",
       "      <td>10548</td>\n",
       "    </tr>\n",
       "    <tr>\n",
       "      <th>M85063</th>\n",
       "      <th>MIDLANDS MEDICAL PARTNERSHIP</th>\n",
       "      <td>9418</td>\n",
       "    </tr>\n",
       "    <tr>\n",
       "      <th>Y01008</th>\n",
       "      <th>BAY MEDICAL GROUP</th>\n",
       "      <td>8595</td>\n",
       "    </tr>\n",
       "    <tr>\n",
       "      <th>F85002</th>\n",
       "      <th>MEDICUS HEALTH PARTNERS-FOREST RD GROUP</th>\n",
       "      <td>8122</td>\n",
       "    </tr>\n",
       "    <tr>\n",
       "      <th>M88004</th>\n",
       "      <th>REGIS MEDICAL CENTRE</th>\n",
       "      <td>7378</td>\n",
       "    </tr>\n",
       "    <tr>\n",
       "      <th>K83002</th>\n",
       "      <th>LAKESIDE HEALTHCARE</th>\n",
       "      <td>6951</td>\n",
       "    </tr>\n",
       "    <tr>\n",
       "      <th>D82044</th>\n",
       "      <th>VIDA HEALTHCARE</th>\n",
       "      <td>6283</td>\n",
       "    </tr>\n",
       "    <tr>\n",
       "      <th>G85034</th>\n",
       "      <th>NEXUS HEALTH GROUP</th>\n",
       "      <td>5879</td>\n",
       "    </tr>\n",
       "    <tr>\n",
       "      <th>C83019</th>\n",
       "      <th>BEACON MEDICAL PRACTICE</th>\n",
       "      <td>5860</td>\n",
       "    </tr>\n",
       "    <tr>\n",
       "      <th>M81026</th>\n",
       "      <th>HEREFORD MEDICAL GROUP</th>\n",
       "      <td>5720</td>\n",
       "    </tr>\n",
       "  </tbody>\n",
       "</table>\n",
       "</div>"
      ],
      "text/plain": [
       "                                                                       src_english_prescribing_items\n",
       "srk_prescribing_practice_code src_prescribing_practice                                              \n",
       "D81022                        OCTAGON MEDICAL PRACTICE                                         10548\n",
       "M85063                        MIDLANDS MEDICAL PARTNERSHIP                                      9418\n",
       "Y01008                        BAY MEDICAL GROUP                                                 8595\n",
       "F85002                        MEDICUS HEALTH PARTNERS-FOREST RD GROUP                           8122\n",
       "M88004                        REGIS MEDICAL CENTRE                                              7378\n",
       "K83002                        LAKESIDE HEALTHCARE                                               6951\n",
       "D82044                        VIDA HEALTHCARE                                                   6283\n",
       "G85034                        NEXUS HEALTH GROUP                                                5879\n",
       "C83019                        BEACON MEDICAL PRACTICE                                           5860\n",
       "M81026                        HEREFORD MEDICAL GROUP                                            5720"
      ]
     },
     "execution_count": 56,
     "metadata": {},
     "output_type": "execute_result"
    }
   ],
   "source": [
    "# In 2019\n",
    "english_prescribing_wide[english_prescribing_wide['drv_year'] == 2019][['srk_prescribing_practice_code', 'src_prescribing_practice','src_english_prescribing_items']].groupby(by=['srk_prescribing_practice_code', 'src_prescribing_practice']).sum().sort_values(by='src_english_prescribing_items', ascending=False).head(10)"
   ]
  },
  {
   "cell_type": "code",
   "execution_count": 57,
   "metadata": {},
   "outputs": [
    {
     "data": {
      "text/html": [
       "<div>\n",
       "<style scoped>\n",
       "    .dataframe tbody tr th:only-of-type {\n",
       "        vertical-align: middle;\n",
       "    }\n",
       "\n",
       "    .dataframe tbody tr th {\n",
       "        vertical-align: top;\n",
       "    }\n",
       "\n",
       "    .dataframe thead th {\n",
       "        text-align: right;\n",
       "    }\n",
       "</style>\n",
       "<table border=\"1\" class=\"dataframe\">\n",
       "  <thead>\n",
       "    <tr style=\"text-align: right;\">\n",
       "      <th></th>\n",
       "      <th></th>\n",
       "      <th>src_english_prescribing_items</th>\n",
       "    </tr>\n",
       "    <tr>\n",
       "      <th>srk_prescribing_practice_code</th>\n",
       "      <th>src_prescribing_practice</th>\n",
       "      <th></th>\n",
       "    </tr>\n",
       "  </thead>\n",
       "  <tbody>\n",
       "    <tr>\n",
       "      <th>D81022</th>\n",
       "      <th>OCTAGON MEDICAL PRACTICE</th>\n",
       "      <td>10819</td>\n",
       "    </tr>\n",
       "    <tr>\n",
       "      <th>M85063</th>\n",
       "      <th>MIDLANDS MEDICAL PARTNERSHIP</th>\n",
       "      <td>8728</td>\n",
       "    </tr>\n",
       "    <tr>\n",
       "      <th>Y01008</th>\n",
       "      <th>BAY MEDICAL GROUP</th>\n",
       "      <td>7702</td>\n",
       "    </tr>\n",
       "    <tr>\n",
       "      <th>F85002</th>\n",
       "      <th>MEDICUS HEALTH PARTNERS-FOREST RD GROUP</th>\n",
       "      <td>7543</td>\n",
       "    </tr>\n",
       "    <tr>\n",
       "      <th>M88004</th>\n",
       "      <th>REGIS MEDICAL CENTRE</th>\n",
       "      <td>7077</td>\n",
       "    </tr>\n",
       "    <tr>\n",
       "      <th>K83002</th>\n",
       "      <th>LAKESIDE HEALTHCARE</th>\n",
       "      <td>6676</td>\n",
       "    </tr>\n",
       "    <tr>\n",
       "      <th>M92612</th>\n",
       "      <th>HEALTH AND BEYOND</th>\n",
       "      <td>6588</td>\n",
       "    </tr>\n",
       "    <tr>\n",
       "      <th>J82155</th>\n",
       "      <th>PORTSDOWN GROUP PRACTICE</th>\n",
       "      <td>6290</td>\n",
       "    </tr>\n",
       "    <tr>\n",
       "      <th>G85034</th>\n",
       "      <th>NEXUS HEALTH GROUP</th>\n",
       "      <td>6044</td>\n",
       "    </tr>\n",
       "    <tr>\n",
       "      <th>B81025</th>\n",
       "      <th>HOLDERNESS HEALTH</th>\n",
       "      <td>5896</td>\n",
       "    </tr>\n",
       "  </tbody>\n",
       "</table>\n",
       "</div>"
      ],
      "text/plain": [
       "                                                                       src_english_prescribing_items\n",
       "srk_prescribing_practice_code src_prescribing_practice                                              \n",
       "D81022                        OCTAGON MEDICAL PRACTICE                                         10819\n",
       "M85063                        MIDLANDS MEDICAL PARTNERSHIP                                      8728\n",
       "Y01008                        BAY MEDICAL GROUP                                                 7702\n",
       "F85002                        MEDICUS HEALTH PARTNERS-FOREST RD GROUP                           7543\n",
       "M88004                        REGIS MEDICAL CENTRE                                              7077\n",
       "K83002                        LAKESIDE HEALTHCARE                                               6676\n",
       "M92612                        HEALTH AND BEYOND                                                 6588\n",
       "J82155                        PORTSDOWN GROUP PRACTICE                                          6290\n",
       "G85034                        NEXUS HEALTH GROUP                                                6044\n",
       "B81025                        HOLDERNESS HEALTH                                                 5896"
      ]
     },
     "execution_count": 57,
     "metadata": {},
     "output_type": "execute_result"
    }
   ],
   "source": [
    "# In 2020\n",
    "english_prescribing_wide[english_prescribing_wide['drv_year'] == 2020][['srk_prescribing_practice_code', 'src_prescribing_practice','src_english_prescribing_items']].groupby(by=['srk_prescribing_practice_code', 'src_prescribing_practice']).sum().sort_values(by='src_english_prescribing_items', ascending=False).head(10)"
   ]
  },
  {
   "cell_type": "code",
   "execution_count": 58,
   "metadata": {},
   "outputs": [
    {
     "data": {
      "text/html": [
       "<div>\n",
       "<style scoped>\n",
       "    .dataframe tbody tr th:only-of-type {\n",
       "        vertical-align: middle;\n",
       "    }\n",
       "\n",
       "    .dataframe tbody tr th {\n",
       "        vertical-align: top;\n",
       "    }\n",
       "\n",
       "    .dataframe thead th {\n",
       "        text-align: right;\n",
       "    }\n",
       "</style>\n",
       "<table border=\"1\" class=\"dataframe\">\n",
       "  <thead>\n",
       "    <tr style=\"text-align: right;\">\n",
       "      <th></th>\n",
       "      <th></th>\n",
       "      <th>src_english_prescribing_items</th>\n",
       "    </tr>\n",
       "    <tr>\n",
       "      <th>srk_prescribing_practice_code</th>\n",
       "      <th>src_prescribing_practice</th>\n",
       "      <th></th>\n",
       "    </tr>\n",
       "  </thead>\n",
       "  <tbody>\n",
       "    <tr>\n",
       "      <th>D81022</th>\n",
       "      <th>OCTAGON MEDICAL PRACTICE</th>\n",
       "      <td>5420</td>\n",
       "    </tr>\n",
       "    <tr>\n",
       "      <th>F85002</th>\n",
       "      <th>MEDICUS HEALTH PARTNERS</th>\n",
       "      <td>5277</td>\n",
       "    </tr>\n",
       "    <tr>\n",
       "      <th>M85063</th>\n",
       "      <th>MIDLANDS MEDICAL PARTNERSHIP</th>\n",
       "      <td>4038</td>\n",
       "    </tr>\n",
       "    <tr>\n",
       "      <th>Y01008</th>\n",
       "      <th>BAY MEDICAL GROUP</th>\n",
       "      <td>3910</td>\n",
       "    </tr>\n",
       "    <tr>\n",
       "      <th>A84036</th>\n",
       "      <th>VALENS MEDICAL PARTNERSHIP</th>\n",
       "      <td>3777</td>\n",
       "    </tr>\n",
       "    <tr>\n",
       "      <th>M92612</th>\n",
       "      <th>HEALTH AND BEYOND</th>\n",
       "      <td>3449</td>\n",
       "    </tr>\n",
       "    <tr>\n",
       "      <th>J82155</th>\n",
       "      <th>PORTSDOWN GROUP PRACTICE</th>\n",
       "      <td>3313</td>\n",
       "    </tr>\n",
       "    <tr>\n",
       "      <th>K83002</th>\n",
       "      <th>LAKESIDE HEALTHCARE</th>\n",
       "      <td>3211</td>\n",
       "    </tr>\n",
       "    <tr>\n",
       "      <th>M88004</th>\n",
       "      <th>REGIS MEDICAL CENTRE</th>\n",
       "      <td>3169</td>\n",
       "    </tr>\n",
       "    <tr>\n",
       "      <th>G85034</th>\n",
       "      <th>NEXUS HEALTH GROUP</th>\n",
       "      <td>2984</td>\n",
       "    </tr>\n",
       "  </tbody>\n",
       "</table>\n",
       "</div>"
      ],
      "text/plain": [
       "                                                            src_english_prescribing_items\n",
       "srk_prescribing_practice_code src_prescribing_practice                                   \n",
       "D81022                        OCTAGON MEDICAL PRACTICE                               5420\n",
       "F85002                        MEDICUS HEALTH PARTNERS                                5277\n",
       "M85063                        MIDLANDS MEDICAL PARTNERSHIP                           4038\n",
       "Y01008                        BAY MEDICAL GROUP                                      3910\n",
       "A84036                        VALENS MEDICAL PARTNERSHIP                             3777\n",
       "M92612                        HEALTH AND BEYOND                                      3449\n",
       "J82155                        PORTSDOWN GROUP PRACTICE                               3313\n",
       "K83002                        LAKESIDE HEALTHCARE                                    3211\n",
       "M88004                        REGIS MEDICAL CENTRE                                   3169\n",
       "G85034                        NEXUS HEALTH GROUP                                     2984"
      ]
     },
     "execution_count": 58,
     "metadata": {},
     "output_type": "execute_result"
    }
   ],
   "source": [
    "# In 2021 up until June 2021\n",
    "english_prescribing_wide[english_prescribing_wide['drv_year'] == 2021][['srk_prescribing_practice_code', 'src_prescribing_practice','src_english_prescribing_items']].groupby(by=['srk_prescribing_practice_code', 'src_prescribing_practice']).sum().sort_values(by='src_english_prescribing_items', ascending=False).head(10)"
   ]
  }
 ],
 "metadata": {
  "kernelspec": {
   "display_name": "Python 3",
   "language": "python",
   "name": "python3"
  },
  "language_info": {
   "codemirror_mode": {
    "name": "ipython",
    "version": 3
   },
   "file_extension": ".py",
   "mimetype": "text/x-python",
   "name": "python",
   "nbconvert_exporter": "python",
   "pygments_lexer": "ipython3",
   "version": "3.8.5"
  }
 },
 "nbformat": 4,
 "nbformat_minor": 4
}
